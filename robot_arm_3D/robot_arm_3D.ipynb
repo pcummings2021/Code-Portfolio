{
 "cells": [
  {
   "cell_type": "code",
   "execution_count": null,
   "id": "a85fbe39-fe0f-4897-9e7e-5fa9a7b38713",
   "metadata": {},
   "outputs": [],
   "source": [
    "## Parker Cummings | CSE 4280 | 3D Robot Arm and Forward Kinematics ## \n",
    "\n",
    "import numpy as np\n",
    "from vedo import *"
   ]
  },
  {
   "cell_type": "code",
   "execution_count": null,
   "id": "c06ccf1c-4a1e-4fd3-90c9-b09a35674901",
   "metadata": {},
   "outputs": [],
   "source": [
    "phi1 = np.pi/4\n",
    "\n",
    "T_01 = np.array([[np.cos(phi1), -np.sin(phi1),  0],\n",
    "                 [np.sin(phi1),  np.cos(phi1),  0],\n",
    "                 [           0,             0,  1]])\n",
    "\n"
   ]
  }
 ],
 "metadata": {
  "kernelspec": {
   "display_name": "Python 3 (ipykernel)",
   "language": "python",
   "name": "python3"
  },
  "language_info": {
   "codemirror_mode": {
    "name": "ipython",
    "version": 3
   },
   "file_extension": ".py",
   "mimetype": "text/x-python",
   "name": "python",
   "nbconvert_exporter": "python",
   "pygments_lexer": "ipython3",
   "version": "3.9.13"
  }
 },
 "nbformat": 4,
 "nbformat_minor": 5
}

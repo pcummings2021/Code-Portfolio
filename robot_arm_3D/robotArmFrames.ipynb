{
 "cells": [
  {
   "cell_type": "code",
   "execution_count": 293,
   "id": "312fd7bf",
   "metadata": {
    "colab": {
     "base_uri": "https://localhost:8080/",
     "height": 56
    },
    "id": "312fd7bf",
    "outputId": "a5044d31-012b-4759-9ec2-e38d9119c539"
   },
   "outputs": [
    {
     "data": {
      "text/plain": [
       "' Kinematic chain of a robot arm (planar)\\n    Assignment \\n'"
      ]
     },
     "execution_count": 293,
     "metadata": {},
     "output_type": "execute_result"
    }
   ],
   "source": [
    "\"\"\" Kinematic chain of a robot arm (planar)\n",
    "    Assignment \n",
    "\"\"\""
   ]
  },
  {
   "cell_type": "markdown",
   "id": "ba6568e4",
   "metadata": {
    "id": "ba6568e4"
   },
   "source": [
    "\n",
    "![](https://github.com/eraldoribeiro/assignment_robotarm2D/blob/main/robotArm01.png?raw=1)\n",
    "*Figure 1*: A two-dimensional articulated arm. The articulated structure has 3 local coordinate frames each one centered at a joint. For each part, the local x-axis is aligned with the part.  \n",
    "\n",
    "Consider the arm structure shown in Figure 1. Assume the following values for the arm configuration: \n",
    "- The location of the first joint (i.e., the one that is attached to the ground support) is ${\\bf p}_1 = \\left(3,2\\right)^\\mathsf{T}$. \n",
    "- The lengths of the parts are $L_1 = 5$ and  $L_2 = 8$."
   ]
  },
  {
   "cell_type": "code",
   "execution_count": 294,
   "id": "2a4e0632",
   "metadata": {
    "id": "2a4e0632"
   },
   "outputs": [],
   "source": [
    "import numpy as np\n",
    "import math as mph"
   ]
  },
  {
   "cell_type": "markdown",
   "id": "0b27c659",
   "metadata": {
    "id": "0b27c659"
   },
   "source": [
    "### Question 1\n",
    "\n",
    "Write the matrices that represent the local coordinate frames $\\mathcal F\\{1\\}$, $\\mathcal F\\{2\\}$, and $\\mathcal F\\{3\\}$. These frames are indicated in green in Figure 1. The transformation matrices you need to write are $T_{0,1}$, $T_{1,2}$, and $T_{2,3}$."
   ]
  },
  {
   "cell_type": "code",
   "execution_count": 295,
   "id": "5ddc94ae",
   "metadata": {
    "id": "5ddc94ae"
   },
   "outputs": [
    {
     "name": "stdout",
     "output_type": "stream",
     "text": [
      "transformation matrix from frame 1 to 0 is \n",
      " [[ 0.70710678 -0.70710678  3.        ]\n",
      " [ 0.70710678  0.70710678  2.        ]\n",
      " [ 0.          0.          1.        ]]\n"
     ]
    }
   ],
   "source": [
    "# Answer goes here. Add more code/markdown cells as needed\n",
    "phi1 = np.pi/4\n",
    "\n",
    "p_1 = np.array([[3], [2]])\n",
    "\n",
    "T_01 = np.array([[np.cos(phi1), -np.sin(phi1), p_1[0][0]],\n",
    "                 [np.sin(phi1),  np.cos(phi1), p_1[1][0]],\n",
    "                 [           0,             0, 1]])\n",
    "\n",
    "print(\"transformation matrix from frame 1 to 0 is \\n\", T_01)\n",
    "\n"
   ]
  },
  {
   "cell_type": "code",
   "execution_count": 296,
   "id": "9987311b-110e-408e-b305-542cc470b11b",
   "metadata": {},
   "outputs": [
    {
     "name": "stdout",
     "output_type": "stream",
     "text": [
      "transformation matrix from frame 2 to 1 is \n",
      " [[ 0.92387953 -0.38268343  5.        ]\n",
      " [ 0.38268343  0.92387953  0.        ]\n",
      " [ 0.          0.          1.        ]]\n"
     ]
    }
   ],
   "source": [
    "L1 = 5\n",
    "L2 = 8\n",
    "\n",
    "phi2 = np.pi/8\n",
    "\n",
    "T_12 = np.array([[np.cos(phi2), -np.sin(phi2), L1], \n",
    "                 [np.sin(phi2),  np.cos(phi2),  0],\n",
    "                 [           0,             0,  1]])\n",
    "                \n",
    "print(\"transformation matrix from frame 2 to 1 is \\n\", T_12)"
   ]
  },
  {
   "cell_type": "code",
   "execution_count": 297,
   "id": "6ac07092-af68-47ff-953c-818c08142746",
   "metadata": {},
   "outputs": [
    {
     "name": "stdout",
     "output_type": "stream",
     "text": [
      "transformation matrix from frame 3 to 2 is \n",
      " [[1 0 8]\n",
      " [0 1 0]\n",
      " [0 0 1]]\n"
     ]
    }
   ],
   "source": [
    "T_23 = np.array([[1, 0, L2],\n",
    "                 [0, 1,  0],\n",
    "                 [0, 0,  1]])\n",
    "\n",
    "print(\"transformation matrix from frame 3 to 2 is \\n\", T_23)"
   ]
  },
  {
   "cell_type": "markdown",
   "id": "08eafd4c",
   "metadata": {
    "id": "08eafd4c"
   },
   "source": [
    "### Question 2\n",
    "\n",
    "Write the matrices that represent each local frame w.r.t. the global frame $\\mathcal F\\{0\\}$. The transformations you need to write are $T_{0,1}$, $T_{0,2}$, and $T_{0,3}$."
   ]
  },
  {
   "cell_type": "code",
   "execution_count": 298,
   "id": "468d7a8a",
   "metadata": {
    "id": "468d7a8a"
   },
   "outputs": [
    {
     "name": "stdout",
     "output_type": "stream",
     "text": [
      "transformation matrix from frame 1 to 0 is \n",
      " [[ 0.70710678 -0.70710678  3.        ]\n",
      " [ 0.70710678  0.70710678  2.        ]\n",
      " [ 0.          0.          1.        ]]\n"
     ]
    }
   ],
   "source": [
    "# Answer goes here. Add more code/markdown cells as needed\n",
    "\n",
    "# transformation matrix of frame 1 -> 0 is already known\n",
    "print(\"transformation matrix from frame 1 to 0 is \\n\", T_01)\n",
    "\n"
   ]
  },
  {
   "cell_type": "code",
   "execution_count": 299,
   "id": "46df88e5-f818-43af-a7fb-90f435bd5577",
   "metadata": {},
   "outputs": [
    {
     "name": "stdout",
     "output_type": "stream",
     "text": [
      "transformation matrix from frame 2 to 0 is \n",
      " [[ 0.38268343 -0.92387953  6.53553391]\n",
      " [ 0.92387953  0.38268343  5.53553391]\n",
      " [ 0.          0.          1.        ]]\n"
     ]
    }
   ],
   "source": [
    "# Matrix multiplication to find transformation matrix of 2 -> 0\n",
    "T_02 = T_01 @ T_12\n",
    "\n",
    "\n",
    "print(\"transformation matrix from frame 2 to 0 is \\n\", T_02)"
   ]
  },
  {
   "cell_type": "code",
   "execution_count": 300,
   "id": "57e6605d-dd03-4d0a-afc5-0be329b08b15",
   "metadata": {},
   "outputs": [
    {
     "name": "stdout",
     "output_type": "stream",
     "text": [
      "transformation matrix from frame 3 to 0 is \n",
      " [[ 0.38268343 -0.92387953  9.59700136]\n",
      " [ 0.92387953  0.38268343 12.92657017]\n",
      " [ 0.          0.          1.        ]]\n"
     ]
    }
   ],
   "source": [
    "# Matrix multiplication to find transformation matrix of 3 -> 0\n",
    "T_03 = T_01 @ T_12 @ T_23\n",
    "\n",
    "print(\"transformation matrix from frame 3 to 0 is \\n\", T_03)"
   ]
  },
  {
   "cell_type": "markdown",
   "id": "dbfe60c7",
   "metadata": {
    "id": "dbfe60c7"
   },
   "source": [
    "### Question 3\n",
    "\n",
    "Write the matrices that represent the local coordinate frames $\\mathcal F\\{1\\}$, $\\mathcal F\\{2\\}$, and $\\mathcal F\\{3\\}$. These frames are indicated in green in Figure 1. The transformation matrices you need to write are $T_{0,1}$, $T_{1,2}$, and $T_{2,3}$."
   ]
  },
  {
   "cell_type": "code",
   "execution_count": 301,
   "id": "bb0c3c41",
   "metadata": {
    "id": "bb0c3c41"
   },
   "outputs": [],
   "source": [
    "# Answer goes here. Add more code/markdown cells as needed\n",
    "\n",
    "# Students were told to ignore question 3 #\n",
    "\n"
   ]
  },
  {
   "cell_type": "markdown",
   "id": "80d5ab08",
   "metadata": {
    "id": "80d5ab08"
   },
   "source": [
    "### Question 4\n",
    "\n",
    "Using the transformations from the previous questions, calculate the global coordinates of the middle point of each part of the robot arm when $\\phi_1 = \\pi/8$ and $\\phi_2 = \\pi/4$. Hint: the location of the middle point of part 1 is $(\\frac{L_1}{2},0)^\\mathsf{T}$ (w.r.t. frame $\\mathcal F\\{1\\}$)."
   ]
  },
  {
   "cell_type": "code",
   "execution_count": 302,
   "id": "39fc9399",
   "metadata": {
    "id": "39fc9399"
   },
   "outputs": [
    {
     "name": "stdout",
     "output_type": "stream",
     "text": [
      "The global coordinates of the mid point of L1 is \n",
      " [[4.76776695]\n",
      " [3.76776695]\n",
      " [1.        ]]\n"
     ]
    }
   ],
   "source": [
    "# Answer goes here. Add more code/markdown cells as needed\n",
    "\n",
    "mid_locf1 = np.array([[L1/2], [0], [1]])\n",
    "\n",
    "mid_globf1 = T_01 @ mid_locf1\n",
    "\n",
    "print(\"The global coordinates of the mid point of L1 is \\n\", mid_globf1)\n",
    "\n"
   ]
  },
  {
   "cell_type": "markdown",
   "id": "7b1d733f",
   "metadata": {
    "id": "7b1d733f"
   },
   "source": [
    "### Question 5\n",
    "\n",
    "Using the transformations from the previous questions, calculate the global coordinates of all the joint points and the end-effector location when $\\phi_1 = \\pi/4$ and $\\phi_2 = \\pi/8$. "
   ]
  },
  {
   "cell_type": "code",
   "execution_count": 303,
   "id": "817e8a81",
   "metadata": {
    "id": "817e8a81"
   },
   "outputs": [
    {
     "name": "stdout",
     "output_type": "stream",
     "text": [
      "The global coordinates of the first joint are\n",
      " [[3.]\n",
      " [2.]\n",
      " [1.]]\n"
     ]
    }
   ],
   "source": [
    "# Answer goes here. Add more code/markdown cells as needed\n",
    "\n",
    "joint_locf1 = np.array([[0], [0], [1]])\n",
    "joint_globf1 = T_01 @ joint_locf1\n",
    "\n",
    "print(\"The global coordinates of the first joint are\\n\", joint_globf1)"
   ]
  },
  {
   "cell_type": "code",
   "execution_count": 304,
   "id": "f11893bd-b76c-46f7-9560-5a1b4e3f39f6",
   "metadata": {},
   "outputs": [
    {
     "name": "stdout",
     "output_type": "stream",
     "text": [
      "The global coordinates of the second joint are\n",
      " [[6.53553391]\n",
      " [5.53553391]\n",
      " [1.        ]]\n"
     ]
    }
   ],
   "source": [
    "joint_locf2 = np.array([[0], [0], [1]])\n",
    "joint_globf2 = T_02 @ joint_locf2\n",
    "\n",
    "print(\"The global coordinates of the second joint are\\n\", joint_globf2)"
   ]
  },
  {
   "cell_type": "code",
   "execution_count": 305,
   "id": "b7d37575-a0cd-4248-9388-4768a4a53313",
   "metadata": {},
   "outputs": [
    {
     "name": "stdout",
     "output_type": "stream",
     "text": [
      "The global coordinates of the end effector are\n",
      " [[ 9.59700136]\n",
      " [12.92657017]\n",
      " [ 1.        ]]\n"
     ]
    }
   ],
   "source": [
    "end_locf3 = np.array([[0], [0], [1]])\n",
    "end_globf3 = T_03 @ end_locf3\n",
    "\n",
    "print(\"The global coordinates of the end effector are\\n\", end_globf3)"
   ]
  },
  {
   "cell_type": "markdown",
   "id": "66b1cac7",
   "metadata": {
    "id": "66b1cac7"
   },
   "source": [
    "### Question 6\n",
    "\n",
    "Write the matrix that represents the coordinate frame of the end effector w.r.t. frame  $\\mathcal F\\{1\\}$, i.e., $T_{1,3}$"
   ]
  },
  {
   "cell_type": "code",
   "execution_count": 306,
   "id": "cf5fb9dd",
   "metadata": {
    "id": "cf5fb9dd",
    "tags": []
   },
   "outputs": [
    {
     "name": "stdout",
     "output_type": "stream",
     "text": [
      "The frame of the end effector w.r.t f1 is \n",
      " [[ 0.92387953 -0.38268343 12.39103626]\n",
      " [ 0.38268343  0.92387953  3.06146746]\n",
      " [ 0.          0.          1.        ]]\n"
     ]
    }
   ],
   "source": [
    "# Answer goes here. Add more code/markdown cells as needed\n",
    "\n",
    "T_13 = T_12 @ T_23\n",
    "\n",
    "print(\"The frame of the end effector w.r.t f1 is \\n\", T_13)"
   ]
  },
  {
   "cell_type": "markdown",
   "id": "3a84cb79",
   "metadata": {
    "id": "3a84cb79"
   },
   "source": [
    "### Question 7\n",
    "\n",
    "Write the matrix that represents the coordinate frame $\\mathcal F\\{1\\}$ w.r.t. to the frame of the end effector"
   ]
  },
  {
   "cell_type": "code",
   "execution_count": 307,
   "id": "b39f8800",
   "metadata": {
    "id": "b39f8800"
   },
   "outputs": [
    {
     "name": "stdout",
     "output_type": "stream",
     "text": [
      "The frame of f1 w.r.t the end effector is \n",
      " [[ 0.92387953 -0.38268343 13.        ]\n",
      " [ 0.38268343  0.92387953  0.        ]\n",
      " [ 0.          0.          1.        ]]\n"
     ]
    }
   ],
   "source": [
    "# Answer goes here. Add more code/markdown cells as needed\n",
    "\n",
    "T_31 = T_23 @ T_12\n",
    "\n",
    "print(\"The frame of f1 w.r.t the end effector is \\n\", T_31)"
   ]
  }
 ],
 "metadata": {
  "colab": {
   "provenance": []
  },
  "kernelspec": {
   "display_name": "Python 3 (ipykernel)",
   "language": "python",
   "name": "python3"
  },
  "language_info": {
   "codemirror_mode": {
    "name": "ipython",
    "version": 3
   },
   "file_extension": ".py",
   "mimetype": "text/x-python",
   "name": "python",
   "nbconvert_exporter": "python",
   "pygments_lexer": "ipython3",
   "version": "3.9.13"
  }
 },
 "nbformat": 4,
 "nbformat_minor": 5
}
